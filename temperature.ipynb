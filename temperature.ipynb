{
 "cells": [
  {
   "cell_type": "code",
   "execution_count": 3,
   "id": "d2bdf3e2-106e-47d9-8e73-3a24bfabd754",
   "metadata": {},
   "outputs": [
    {
     "name": "stdout",
     "output_type": "stream",
     "text": [
      "Temperature converter\n",
      "1.Celsius\n",
      "2.Fahrenheit\n",
      "3.Kelvin\n"
     ]
    },
    {
     "name": "stdin",
     "output_type": "stream",
     "text": [
      "Enter the temperature:  23\n",
      "Enter the unit (C,F,K):  C\n"
     ]
    },
    {
     "name": "stdout",
     "output_type": "stream",
     "text": [
      "23.0C is equal to 73.4F and 296.15K\n"
     ]
    }
   ],
   "source": [
    "print(\"Temperature converter\")\n",
    "print(\"1.Celsius\")\n",
    "print(\"2.Fahrenheit\")\n",
    "print(\"3.Kelvin\")\n",
    "temperature=float(input(\"Enter the temperature: \"))\n",
    "unit=input(\"Enter the unit (C,F,K): \")\n",
    "if unit.upper()==\"C\":\n",
    "    Fahrenheit=temperature*9/5+32\n",
    "    Kelvin=temperature+273.15\n",
    "    print(f\"{temperature}C is equal to {Fahrenheit}F and {Kelvin}K\")\n",
    "elif unit.upper()==\"F\":\n",
    "    Celsius=(temperature-32)*5/9+273.15\n",
    "    Kelvin=(temperature-32)*5/9+273.15\n",
    "    print(f\"{temperature}F is equal to {Celsius}C and {Kelvin}K\")\n",
    "elif unit.upper()==\"K\":\n",
    "     Celsius=(temperature-32)*5/9+273.15\n",
    "     Fahrenheit=temperature*9/5+32\n",
    "     print(\"f{temperature}K is equal to {Celsius}C and {Fahreheit}F\")\n",
    "else:\n",
    "     print(\"Invalid unit. Please enter C,F or K.\")"
   ]
  },
  {
   "cell_type": "code",
   "execution_count": null,
   "id": "f338eee8-72e8-423f-b3d2-808f3d0849ce",
   "metadata": {},
   "outputs": [],
   "source": []
  }
 ],
 "metadata": {
  "kernelspec": {
   "display_name": "Python 3 (ipykernel)",
   "language": "python",
   "name": "python3"
  },
  "language_info": {
   "codemirror_mode": {
    "name": "ipython",
    "version": 3
   },
   "file_extension": ".py",
   "mimetype": "text/x-python",
   "name": "python",
   "nbconvert_exporter": "python",
   "pygments_lexer": "ipython3",
   "version": "3.12.4"
  }
 },
 "nbformat": 4,
 "nbformat_minor": 5
}
